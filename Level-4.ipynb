{
 "cells": [
  {
   "cell_type": "code",
   "execution_count": 1,
   "id": "e693bcbe",
   "metadata": {},
   "outputs": [
    {
     "name": "stdout",
     "output_type": "stream",
     "text": [
      "Would you like to \n",
      "1: Choose a number \n",
      "2: Guess a number\n",
      "Choice: 2\n",
      "Guess a number between 1-10: 4\n",
      "Wrong, too high! Try again!\n",
      "Guess a number between 1-10: 2\n",
      "Wrong, too low! Try again!\n",
      "Guess a number between 1-10: 3\n",
      "-- YOU WIN! --\n",
      "Play again?\n",
      "1:Yes\n",
      "2:No\n",
      "Choice: 2\n",
      "\n",
      "Goodbye!\n"
     ]
    }
   ],
   "source": [
    "from random import randint\n",
    "\n",
    "def play_again():\n",
    "    new_game = int(input(\"Play again?\\n1:Yes\\n2:No\\nChoice: \"))\n",
    "    if new_game == 1:\n",
    "        print(\"-----------------\")\n",
    "        print(\"\\n\"*2)\n",
    "        game()\n",
    "    elif new_game == 2:\n",
    "        print(\"\")\n",
    "        print(\"Goodbye!\")\n",
    "        exit()\n",
    "    else:\n",
    "        print(\"Please choose 1 or 2\")\n",
    "        play_again()\n",
    "\n",
    "def player_chooses():\n",
    "    player_answer = int(input(\"Choose a number between 1 and 10: \"))\n",
    "    guesses = 0\n",
    "\n",
    "    while guesses < 3:\n",
    "        computer_guess = randint(1, 10)\n",
    "        computer_guess = str(computer_guess)\n",
    "\n",
    "        if computer_guess == player_answer:\n",
    "            print(\"The computer guessed\", player_answer, \" correctly!\")\n",
    "            print(\"-- GAME OVER --\")\n",
    "            play_again()\n",
    "        else:\n",
    "            print(\"The computer guessed\", computer_guess, \" incorrectly!\")\n",
    "            guesses += 1\n",
    "            if guesses == 3:\n",
    "                print(\"The computer is out of turns.\")\n",
    "                print(\"-- YOU WIN! --\")\n",
    "                play_again()\n",
    "\n",
    "def computer_chooses():\n",
    "    answer = randint(1, 10)\n",
    "    for loop in range(3):        \n",
    "        guess = int(input(\"Guess a number between 1-10: \"))\n",
    "        if guess == answer:\n",
    "            print(\"-- YOU WIN! --\")\n",
    "            play_again()\n",
    "        elif loop == 2:\n",
    "            print(\"Sorry, the answer was\", answer,  \"\\n -- GAME OVER --\")\n",
    "            play_again()\n",
    "        elif guess > answer:\n",
    "            print(\"Wrong, too high! Try again!\")\n",
    "        else:\n",
    "            print(\"Wrong, too low! Try again!\")\n",
    "\n",
    "def game():\n",
    "    user = int(input(\"Would you like to \\n1: Choose a number \\n2: Guess a number\\nChoice: \"))\n",
    "    if user == 1:\n",
    "        player_chooses()\n",
    "    elif user == 2:\n",
    "        computer_chooses()\n",
    "    else:\n",
    "        print(\"Choose either 1 or 2\")\n",
    "        game()\n",
    "\n",
    "game()\n"
   ]
  },
  {
   "cell_type": "code",
   "execution_count": null,
   "id": "89cb3db0",
   "metadata": {},
   "outputs": [],
   "source": []
  },
  {
   "cell_type": "markdown",
   "id": "b88b643f",
   "metadata": {},
   "source": [
    "# "
   ]
  },
  {
   "cell_type": "code",
   "execution_count": null,
   "id": "d353b646",
   "metadata": {},
   "outputs": [],
   "source": []
  },
  {
   "cell_type": "code",
   "execution_count": null,
   "id": "b3918e05",
   "metadata": {},
   "outputs": [],
   "source": []
  },
  {
   "cell_type": "code",
   "execution_count": null,
   "id": "742dc2b0",
   "metadata": {},
   "outputs": [],
   "source": []
  }
 ],
 "metadata": {
  "kernelspec": {
   "display_name": "Python 3 (ipykernel)",
   "language": "python",
   "name": "python3"
  },
  "language_info": {
   "codemirror_mode": {
    "name": "ipython",
    "version": 3
   },
   "file_extension": ".py",
   "mimetype": "text/x-python",
   "name": "python",
   "nbconvert_exporter": "python",
   "pygments_lexer": "ipython3",
   "version": "3.8.9"
  }
 },
 "nbformat": 4,
 "nbformat_minor": 5
}
