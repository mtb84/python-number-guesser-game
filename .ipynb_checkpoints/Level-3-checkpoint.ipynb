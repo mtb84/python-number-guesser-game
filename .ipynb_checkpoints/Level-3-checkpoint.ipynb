{
 "cells": [
  {
   "cell_type": "code",
   "execution_count": 38,
   "id": "82c36392",
   "metadata": {},
   "outputs": [
    {
     "name": "stdout",
     "output_type": "stream",
     "text": [
      "Pick a number between 1 and 10: 2\n",
      "The computer guessed 4 incorrectly.\n",
      "The computer guessed 1 incorrectly.\n",
      "The computer guessed 7 incorrectly.\n",
      "The computer guessed 2 correctly!\n",
      "It took the computer 4 tries to guess your number\n"
     ]
    }
   ],
   "source": [
    "from random import randrange\n",
    "\n",
    "answer = int(input(\"Pick a number between 1 and 10: \"))\n",
    "guesses = 1\n",
    "\n",
    "while True:\n",
    "    computer_guess = randrange(1, 10)\n",
    "    \n",
    "    if computer_guess > answer:\n",
    "        print(\"The computer guessed\", computer_guess,\"incorrectly.\")\n",
    "        computer_guess = int(computer_guess - 1)\n",
    "        guesses += 1\n",
    "        continue\n",
    "    elif computer_guess < answer:\n",
    "        print(\"The computer guessed\", computer_guess,\"incorrectly.\")\n",
    "        computer_guess = int(computer_guess + 1)\n",
    "        guesses += 1\n",
    "        continue\n",
    "    else:\n",
    "        print(\"The computer guessed\", answer, \"correctly!\")\n",
    "        if guesses > 1:\n",
    "            print(\"It took the computer\", guesses, \"tries to guess your number\")\n",
    "            break\n",
    "        else:\n",
    "            print(\"It took the computer\", guesses, \"try to guess your number\")\n",
    "            break"
   ]
  },
  {
   "cell_type": "markdown",
   "id": "63bea1c7",
   "metadata": {},
   "source": [
    "### "
   ]
  },
  {
   "cell_type": "code",
   "execution_count": null,
   "id": "d909f491",
   "metadata": {},
   "outputs": [],
   "source": []
  },
  {
   "cell_type": "code",
   "execution_count": null,
   "id": "6006b58a",
   "metadata": {},
   "outputs": [],
   "source": []
  },
  {
   "cell_type": "code",
   "execution_count": null,
   "id": "7c13a000",
   "metadata": {},
   "outputs": [],
   "source": []
  }
 ],
 "metadata": {
  "kernelspec": {
   "display_name": "Python 3 (ipykernel)",
   "language": "python",
   "name": "python3"
  },
  "language_info": {
   "codemirror_mode": {
    "name": "ipython",
    "version": 3
   },
   "file_extension": ".py",
   "mimetype": "text/x-python",
   "name": "python",
   "nbconvert_exporter": "python",
   "pygments_lexer": "ipython3",
   "version": "3.8.9"
  }
 },
 "nbformat": 4,
 "nbformat_minor": 5
}
