{
 "cells": [
  {
   "cell_type": "code",
   "execution_count": null,
   "id": "ae76ff7b",
   "metadata": {},
   "outputs": [],
   "source": [
    "from random import randint\n",
    "\n",
    "answer = randint(1, 10)\n",
    "\n",
    "\n",
    "for loop in range(3):        \n",
    "    guess = int(input(\"Guess a number between 1-10: \"))\n",
    "    if guess == answer:\n",
    "        print(\"- YOU WIN! -\")\n",
    "        break\n",
    "    elif loop == 2:\n",
    "        print(\"Sorry, the answer was\", answer,  \"\\n- GAME OVER -\") \n",
    "    elif guess > answer:\n",
    "        print(\"Wrong, too high! Try again!\")\n",
    "    else:\n",
    "        print(\"Wrong, too low! Try again!\")\n",
    "        \n"
   ]
  },
  {
   "cell_type": "code",
   "execution_count": null,
   "id": "bfe7e8a1",
   "metadata": {},
   "outputs": [],
   "source": []
  },
  {
   "cell_type": "markdown",
   "id": "76b15342",
   "metadata": {},
   "source": [
    "# "
   ]
  },
  {
   "cell_type": "code",
   "execution_count": null,
   "id": "b822dcd6",
   "metadata": {},
   "outputs": [],
   "source": []
  }
 ],
 "metadata": {
  "kernelspec": {
   "display_name": "Python 3 (ipykernel)",
   "language": "python",
   "name": "python3"
  },
  "language_info": {
   "codemirror_mode": {
    "name": "ipython",
    "version": 3
   },
   "file_extension": ".py",
   "mimetype": "text/x-python",
   "name": "python",
   "nbconvert_exporter": "python",
   "pygments_lexer": "ipython3",
   "version": "3.8.9"
  }
 },
 "nbformat": 4,
 "nbformat_minor": 5
}
