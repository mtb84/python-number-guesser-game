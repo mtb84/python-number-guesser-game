{
 "cells": [
  {
   "cell_type": "code",
   "execution_count": 1,
   "id": "0754b74f",
   "metadata": {},
   "outputs": [
    {
     "name": "stdout",
     "output_type": "stream",
     "text": [
      "Pick a number between 1 and 10: 5\n",
      "The computer guessed 8  incorrectly!\n",
      "The computer guessed 5  incorrectly!\n",
      "The computer guessed 7  incorrectly!\n",
      "The computer is out of turns.\n",
      "-- You Win --\n"
     ]
    }
   ],
   "source": [
    "from random import randint\n",
    "\n",
    "answer = int(input(\"Pick a number between 1 and 10: \"))\n",
    "guesses = 0\n",
    "\n",
    "while guesses < 3:\n",
    "    computer_guess = randint(1, 10)\n",
    "    computer_guess = str(computer_guess)\n",
    "        \n",
    "    if computer_guess == answer:\n",
    "        print(\"The computer guessed\", answer, \" correctly!\")\n",
    "        print(\"-- Game Over --\")\n",
    "        break\n",
    "    else:\n",
    "        print(\"The computer guessed\", computer_guess, \" incorrectly!\")\n",
    "        guesses += 1\n",
    "        if guesses == 3:\n",
    "            print(\"The computer is out of turns.\")\n",
    "            print(\"-- You Win --\")\n",
    "            exit()\n"
   ]
  },
  {
   "cell_type": "code",
   "execution_count": null,
   "id": "8e82f6e0",
   "metadata": {},
   "outputs": [],
   "source": []
  },
  {
   "cell_type": "code",
   "execution_count": null,
   "id": "867530eb",
   "metadata": {},
   "outputs": [],
   "source": []
  },
  {
   "cell_type": "code",
   "execution_count": null,
   "id": "d286b0fd",
   "metadata": {},
   "outputs": [],
   "source": []
  }
 ],
 "metadata": {
  "kernelspec": {
   "display_name": "Python 3 (ipykernel)",
   "language": "python",
   "name": "python3"
  },
  "language_info": {
   "codemirror_mode": {
    "name": "ipython",
    "version": 3
   },
   "file_extension": ".py",
   "mimetype": "text/x-python",
   "name": "python",
   "nbconvert_exporter": "python",
   "pygments_lexer": "ipython3",
   "version": "3.8.9"
  }
 },
 "nbformat": 4,
 "nbformat_minor": 5
}
